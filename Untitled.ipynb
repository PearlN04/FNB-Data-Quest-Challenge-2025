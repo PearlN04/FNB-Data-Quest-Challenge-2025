{
 "cells": [
  {
   "cell_type": "code",
   "execution_count": 3,
   "id": "5ec61956-2dc1-4d16-ac77-7dc02eb03e46",
   "metadata": {},
   "outputs": [
    {
     "data": {
      "text/plain": [
       "<bound method NDFrame.head of               idcol interaction   int_date  item     page        tod  \\\n",
       "0               755     DISPLAY  17-Jan-23  NONE  Screen1  Afternoon   \n",
       "1              4521     DISPLAY  27-Feb-23  NONE  Screen1  Afternoon   \n",
       "2              4521     DISPLAY  18-Feb-23  NONE  Screen1  Afternoon   \n",
       "3              4521     DISPLAY  30-Jan-23  NONE  Screen1    Morning   \n",
       "4              4521       CLICK   5-Feb-23  IBAB  Screen1  Afternoon   \n",
       "...             ...         ...        ...   ...      ...        ...   \n",
       "399995  25728632418    CHECKOUT  19-Feb-23  FIWL  Screen1    Evening   \n",
       "399996  25728632418    CHECKOUT   1-Feb-23  FIWL  Screen1    Evening   \n",
       "399997  25728632418       CLICK   5-Mar-23  EVCU  Screen1  Afternoon   \n",
       "399998  25728632418       CLICK  30-Mar-23  CBEL  Screen1      Early   \n",
       "399999  25728632418       CLICK  13-Mar-23  CBCC  Screen1    Morning   \n",
       "\n",
       "       item_type            item_descrip   segment beh_segment   active_ind  \n",
       "0            ALL     DISPLAYED ALL ITEMS  segment3         B01  Semi Active  \n",
       "1            ALL     DISPLAYED ALL ITEMS  segment1         B07  Semi Active  \n",
       "2            ALL     DISPLAYED ALL ITEMS  segment1         B07  Semi Active  \n",
       "3            ALL     DISPLAYED ALL ITEMS  segment1         B07  Semi Active  \n",
       "4         INSURE         GENERIC MESSAGE  segment1         B07  Semi Active  \n",
       "...          ...                     ...       ...         ...          ...  \n",
       "399995    INVEST     FNB FIDUCIARY WILLS  segment1         B27   Cold Start  \n",
       "399996    INVEST     FNB FIDUCIARY WILLS  segment1         B27   Cold Start  \n",
       "399997  TRANSACT  E-VIRTUAL CARD UTILITY  segment1         B27   Cold Start  \n",
       "399998   CONNECT     PREPAID ELECTRICITY  segment1         B27   Cold Start  \n",
       "399999   CONNECT     CELLPHONE CONTRACTS  segment1         B27   Cold Start  \n",
       "\n",
       "[400000 rows x 11 columns]>"
      ]
     },
     "execution_count": 3,
     "metadata": {},
     "output_type": "execute_result"
    }
   ],
   "source": [
    "import pandas as pd\n",
    "df = pd.read_csv(\"C:/Users/nonts/Downloads/FNB_DataQuest_Challenge_2025/data/clean_data/cleaned_data.csv\")\n",
    "df.head"
   ]
  },
  {
   "cell_type": "code",
   "execution_count": 4,
   "id": "809cfdc9-142b-4945-973b-5e9a9bbefce9",
   "metadata": {},
   "outputs": [
    {
     "data": {
      "text/html": [
       "<div>\n",
       "<style scoped>\n",
       "    .dataframe tbody tr th:only-of-type {\n",
       "        vertical-align: middle;\n",
       "    }\n",
       "\n",
       "    .dataframe tbody tr th {\n",
       "        vertical-align: top;\n",
       "    }\n",
       "\n",
       "    .dataframe thead th {\n",
       "        text-align: right;\n",
       "    }\n",
       "</style>\n",
       "<table border=\"1\" class=\"dataframe\">\n",
       "  <thead>\n",
       "    <tr style=\"text-align: right;\">\n",
       "      <th></th>\n",
       "      <th>interaction</th>\n",
       "      <th>interaction_score</th>\n",
       "    </tr>\n",
       "  </thead>\n",
       "  <tbody>\n",
       "    <tr>\n",
       "      <th>0</th>\n",
       "      <td>DISPLAY</td>\n",
       "      <td>0</td>\n",
       "    </tr>\n",
       "    <tr>\n",
       "      <th>4</th>\n",
       "      <td>CLICK</td>\n",
       "      <td>1</td>\n",
       "    </tr>\n",
       "    <tr>\n",
       "      <th>5</th>\n",
       "      <td>CHECKOUT</td>\n",
       "      <td>2</td>\n",
       "    </tr>\n",
       "  </tbody>\n",
       "</table>\n",
       "</div>"
      ],
      "text/plain": [
       "  interaction  interaction_score\n",
       "0     DISPLAY                  0\n",
       "4       CLICK                  1\n",
       "5    CHECKOUT                  2"
      ]
     },
     "execution_count": 4,
     "metadata": {},
     "output_type": "execute_result"
    }
   ],
   "source": [
    "# Map interaction types to numeric scores, this will help with creating a numeric feature representing user intent\n",
    "interaction_map = {\n",
    "    'DISPLAY': 0,\n",
    "    'CLICK': 1,\n",
    "    'CHECKOUT': 2\n",
    "}\n",
    "\n",
    "df['interaction_score'] = df['interaction'].map(interaction_map)\n",
    "\n",
    "# Check the unique interaction scores\n",
    "df[['interaction', 'interaction_score']].drop_duplicates()"
   ]
  },
  {
   "cell_type": "code",
   "execution_count": 5,
   "id": "536e92be-766d-4e3b-a6fe-0051b9415fef",
   "metadata": {},
   "outputs": [
    {
     "ename": "ModuleNotFoundError",
     "evalue": "No module named 'sklearn'",
     "output_type": "error",
     "traceback": [
      "\u001b[31m---------------------------------------------------------------------------\u001b[39m",
      "\u001b[31mModuleNotFoundError\u001b[39m                       Traceback (most recent call last)",
      "\u001b[36mCell\u001b[39m\u001b[36m \u001b[39m\u001b[32mIn[5]\u001b[39m\u001b[32m, line 1\u001b[39m\n\u001b[32m----> \u001b[39m\u001b[32m1\u001b[39m \u001b[38;5;28;01mfrom\u001b[39;00m\u001b[38;5;250m \u001b[39m\u001b[34;01msklearn\u001b[39;00m\u001b[34;01m.\u001b[39;00m\u001b[34;01mpreprocessing\u001b[39;00m\u001b[38;5;250m \u001b[39m\u001b[38;5;28;01mimport\u001b[39;00m LabelEncoder\n\u001b[32m      3\u001b[39m \u001b[38;5;66;03m# Encode user IDs\u001b[39;00m\n\u001b[32m      4\u001b[39m user_encoder = LabelEncoder()\n",
      "\u001b[31mModuleNotFoundError\u001b[39m: No module named 'sklearn'"
     ]
    }
   ],
   "source": [
    "from sklearn.preprocessing import LabelEncoder\n",
    "\n",
    "# Encode user IDs\n",
    "user_encoder = LabelEncoder()\n",
    "df['user_id'] = user_encoder.fit_transform(df['idcol'])\n",
    "\n",
    "# Encode item IDs\n",
    "item_encoder = LabelEncoder()\n",
    "df['item_id'] = item_encoder.fit_transform(df['item'])\n",
    "\n",
    "# Check samples of encoded IDs\n",
    "df[['idcol', 'user_id', 'item', 'item_id']].drop_duplicates().head()"
   ]
  },
  {
   "cell_type": "code",
   "execution_count": 7,
   "id": "a3ce9a31-0a41-4608-b79a-ea763d3384e5",
   "metadata": {},
   "outputs": [
    {
     "data": {
      "text/html": [
       "<div>\n",
       "<style scoped>\n",
       "    .dataframe tbody tr th:only-of-type {\n",
       "        vertical-align: middle;\n",
       "    }\n",
       "\n",
       "    .dataframe tbody tr th {\n",
       "        vertical-align: top;\n",
       "    }\n",
       "\n",
       "    .dataframe thead th {\n",
       "        text-align: right;\n",
       "    }\n",
       "</style>\n",
       "<table border=\"1\" class=\"dataframe\">\n",
       "  <thead>\n",
       "    <tr style=\"text-align: right;\">\n",
       "      <th></th>\n",
       "      <th>idcol</th>\n",
       "      <th>user_id</th>\n",
       "      <th>item</th>\n",
       "      <th>item_id</th>\n",
       "    </tr>\n",
       "  </thead>\n",
       "  <tbody>\n",
       "    <tr>\n",
       "      <th>0</th>\n",
       "      <td>755</td>\n",
       "      <td>0</td>\n",
       "      <td>NONE</td>\n",
       "      <td>100</td>\n",
       "    </tr>\n",
       "    <tr>\n",
       "      <th>1</th>\n",
       "      <td>4521</td>\n",
       "      <td>1</td>\n",
       "      <td>NONE</td>\n",
       "      <td>100</td>\n",
       "    </tr>\n",
       "    <tr>\n",
       "      <th>4</th>\n",
       "      <td>4521</td>\n",
       "      <td>1</td>\n",
       "      <td>IBAB</td>\n",
       "      <td>76</td>\n",
       "    </tr>\n",
       "    <tr>\n",
       "      <th>6</th>\n",
       "      <td>6145</td>\n",
       "      <td>2</td>\n",
       "      <td>NONE</td>\n",
       "      <td>100</td>\n",
       "    </tr>\n",
       "    <tr>\n",
       "      <th>10</th>\n",
       "      <td>7125</td>\n",
       "      <td>3</td>\n",
       "      <td>NONE</td>\n",
       "      <td>100</td>\n",
       "    </tr>\n",
       "  </tbody>\n",
       "</table>\n",
       "</div>"
      ],
      "text/plain": [
       "    idcol  user_id  item  item_id\n",
       "0     755        0  NONE      100\n",
       "1    4521        1  NONE      100\n",
       "4    4521        1  IBAB       76\n",
       "6    6145        2  NONE      100\n",
       "10   7125        3  NONE      100"
      ]
     },
     "execution_count": 7,
     "metadata": {},
     "output_type": "execute_result"
    }
   ],
   "source": [
    "from sklearn.preprocessing import LabelEncoder\n",
    "\n",
    "# Encode user IDs\n",
    "user_encoder = LabelEncoder()\n",
    "df['user_id'] = user_encoder.fit_transform(df['idcol'])\n",
    "\n",
    "# Encode item IDs\n",
    "item_encoder = LabelEncoder()\n",
    "df['item_id'] = item_encoder.fit_transform(df['item'])\n",
    "\n",
    "# Check samples of encoded IDs\n",
    "df[['idcol', 'user_id', 'item', 'item_id']].drop_duplicates().head()"
   ]
  },
  {
   "cell_type": "code",
   "execution_count": 8,
   "id": "4bb2ef1a-306a-4266-8df6-f1d7874bba0c",
   "metadata": {},
   "outputs": [
    {
     "name": "stdout",
     "output_type": "stream",
     "text": [
      "Interaction matrix shape: (84375, 104)\n"
     ]
    }
   ],
   "source": [
    "from scipy.sparse import coo_matrix\n",
    "\n",
    "# Build the interaction matrix\n",
    "interactions = coo_matrix(\n",
    "    (df['interaction_score'], (df['user_id'], df['item_id']))\n",
    ")\n",
    "\n",
    "# Check the shape: (num_users, num_items)\n",
    "print(\"Interaction matrix shape:\", interactions.shape)"
   ]
  },
  {
   "cell_type": "code",
   "execution_count": 9,
   "id": "0236e18f-c221-4cca-86ef-2a82d84dbded",
   "metadata": {},
   "outputs": [
    {
     "name": "stdout",
     "output_type": "stream",
     "text": [
      "User features shape: (84375, 57)\n"
     ]
    }
   ],
   "source": [
    "from sklearn.feature_extraction import DictVectorizer\n",
    "\n",
    "# Get one row per user with their metadata\n",
    "user_features_df = df[['user_id', 'segment', 'beh_segment', 'active_ind']].drop_duplicates()\n",
    "\n",
    "# Convert to string so DictVectorizer can handle it\n",
    "user_features_df = user_features_df.astype(str)\n",
    "\n",
    "# Create dicts for vectorizer\n",
    "user_dicts = user_features_df.drop('user_id', axis=1).to_dict(orient='records')\n",
    "\n",
    "# Vectorize (convert to matrix)\n",
    "user_vec = DictVectorizer()\n",
    "user_features = user_vec.fit_transform(user_dicts)\n",
    "\n",
    "print(\"User features shape:\", user_features.shape)"
   ]
  },
  {
   "cell_type": "code",
   "execution_count": 10,
   "id": "e9e6a3bb-cdd6-4769-aeea-19009001cb64",
   "metadata": {},
   "outputs": [
    {
     "name": "stdout",
     "output_type": "stream",
     "text": [
      "Item features shape: (104, 7)\n"
     ]
    }
   ],
   "source": [
    "# One row per item\n",
    "item_features_df = df[['item_id', 'item_type']].drop_duplicates()\n",
    "\n",
    "# Convert to string (important for vectorizer)\n",
    "item_features_df['item_type'] = item_features_df['item_type'].astype(str)\n",
    "\n",
    "# Convert to dicts\n",
    "item_dicts = item_features_df.drop('item_id', axis=1).to_dict(orient='records')\n",
    "\n",
    "# Vectorize\n",
    "item_vec = DictVectorizer()\n",
    "item_features = item_vec.fit_transform(item_dicts)\n",
    "\n",
    "print(\"Item features shape:\", item_features.shape)"
   ]
  },
  {
   "cell_type": "code",
   "execution_count": 12,
   "id": "a8763d14-c51d-4a49-8ed2-f06e13edabea",
   "metadata": {},
   "outputs": [],
   "source": [
    "df.to_csv(\"C:/Users/nonts/Downloads/FNB_DataQuest_Challenge_2025/data/clean_data/fnb_feature_engineered.csv\", index=False)"
   ]
  },
  {
   "cell_type": "code",
   "execution_count": null,
   "id": "fe038f94-4cdc-47f6-8bf4-e965d896dcd6",
   "metadata": {},
   "outputs": [],
   "source": []
  }
 ],
 "metadata": {
  "kernelspec": {
   "display_name": "Python 3 (ipykernel)",
   "language": "python",
   "name": "python3"
  },
  "language_info": {
   "codemirror_mode": {
    "name": "ipython",
    "version": 3
   },
   "file_extension": ".py",
   "mimetype": "text/x-python",
   "name": "python",
   "nbconvert_exporter": "python",
   "pygments_lexer": "ipython3",
   "version": "3.11.9"
  }
 },
 "nbformat": 4,
 "nbformat_minor": 5
}
